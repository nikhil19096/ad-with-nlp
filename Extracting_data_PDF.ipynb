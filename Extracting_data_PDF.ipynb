{
 "cells": [
  {
   "cell_type": "code",
   "execution_count": 8,
   "id": "2af28819-8705-4f50-bc08-9c4a1aad6f72",
   "metadata": {},
   "outputs": [
    {
     "name": "stdout",
     "output_type": "stream",
     "text": [
      "Requirement already satisfied: PyPDF2 in /opt/anaconda3/lib/python3.12/site-packages (3.0.1)\n",
      "Note: you may need to restart the kernel to use updated packages.\n"
     ]
    }
   ],
   "source": [
    "pip install PyPDF2"
   ]
  },
  {
   "cell_type": "code",
   "execution_count": 12,
   "id": "e633dc3f-28fb-4112-9c09-9a5258703825",
   "metadata": {},
   "outputs": [],
   "source": [
    "import PyPDF2\n",
    "from PyPDF2 import PdfFileReader"
   ]
  },
  {
   "cell_type": "code",
   "execution_count": 14,
   "id": "b3e87bc2-6ece-4a59-bd42-58285cde0807",
   "metadata": {},
   "outputs": [
    {
     "data": {
      "text/plain": [
       "'3.0.1'"
      ]
     },
     "execution_count": 14,
     "metadata": {},
     "output_type": "execute_result"
    }
   ],
   "source": [
    "PyPDF2.__version__"
   ]
  },
  {
   "cell_type": "code",
   "execution_count": 17,
   "id": "47865b6d-f450-4736-9fea-bffafc9e83c0",
   "metadata": {},
   "outputs": [
    {
     "name": "stdout",
     "output_type": "stream",
     "text": [
      "Number of pades: 35\n",
      " \n",
      " \n",
      " Development  Plan for Greater Mumbai 2014‐2034                                                                                                                                                                                                                                                      \n",
      "Acknowledgements  \n",
      "The Consultant  wishes to thank the following  individuals  from the Municipal  Corporation  of \n",
      "Greater Mumbai for their invaluable  support, insights and contributions  towards ‘Working  Paper 1 \n",
      "– Preparation  of Base Map’ for the preparation  of the Development  Plan for Greater Mumbai \n",
      "2014‐34. \n",
      " Mr. Subodh Kumar, IAS, Municipal  Commissioner;  \n",
      " Mr. Rajeev Kuknoor, Chief Engineer Development  Plan; \n",
      " Mr. Sudhir Ghate, Deputy Chief Engineer Development  Plan; \n",
      " Mr. A.G. Marathe, Deputy Chief Engineer Development  Plan; \n",
      " Mr. R. Balachandran,  Executive  Engineer and Town Planning Officer, Development  Plan. \n",
      " Our gratitude  to the following  experts for their invaluable  insights and support: \n",
      " \n",
      "Mr. V.K Phatak, Former Chief Town Planner (MMRDA);  \n",
      " Mr. A.N Kale, Former Chief Engineer, (DP); \n",
      " Mr. A. S Jain Former Dy. Chief Engineer, (DP). \n",
      " We wish to especially  thank MCGM officers, Mr. Jagdish Talreja, Mr. Dinesh Naik, Mr. Hiren \n",
      "Daftardar,  Ms. Anita Naik for their continual  support since the\n",
      " beginning  of the project and their \n",
      "help towards familiarization  and data collection.  They have been instrumental  in helping to \n",
      "contact various MCGM departments  as well as in helping to establish contact with personnel  from \n",
      "other government  departments  and organizations.  Many thanks for the MCGM team, for \n",
      "deploying  personnel,  particularly  Mr. Prasad Gharat, on extensive  field visits that have helped in \n",
      "understanding  actual ground conditions.  \n",
      " \n",
      "We apologize  if we have inadvertently  omitted anyone to whom acknowledgement  is due. We hope \n",
      "and anticipate  the work's usefulness  for the intended purpose. \n",
      " \n"
     ]
    },
    {
     "data": {
      "text/plain": [
       "<function BufferedReader.close()>"
      ]
     },
     "execution_count": 17,
     "metadata": {},
     "output_type": "execute_result"
    }
   ],
   "source": [
    "pdf=open(\"file1pdf.pdf\",\"rb\")\n",
    "pdf_reader=PyPDF2.PdfReader(pdf)\n",
    "\n",
    "print(\"Number of pades:\",len(pdf_reader.pages))\n",
    "page=pdf_reader.pages[1]\n",
    "print(page.extract_text())\n",
    "pdf.close"
   ]
  },
  {
   "cell_type": "code",
   "execution_count": 19,
   "id": "551128e3-a451-4c3a-9228-25b3b376d163",
   "metadata": {},
   "outputs": [],
   "source": [
    "import PyPDF2, urllib, nltk\n",
    "from io import BytesIO\n",
    "from nltk. tokenize import word_tokenize\n",
    "from nltk.corpus import stopwords"
   ]
  },
  {
   "cell_type": "code",
   "execution_count": 21,
   "id": "df1f82c2-3c30-4695-a623-288ee54278d2",
   "metadata": {},
   "outputs": [],
   "source": [
    "wFile = urllib.request.urlopen('http://www.udri.org/pdf/02%20working%20paper%201.pdf')\n",
    "pdfreader = PyPDF2.PdfReader(BytesIO(wFile.read()))"
   ]
  },
  {
   "cell_type": "code",
   "execution_count": 23,
   "id": "b55e6719-5fb4-4170-acd8-36feb9220a7c",
   "metadata": {},
   "outputs": [],
   "source": [
    "pageObj = pdfreader.pages[2]\n",
    "page2 = pageObj.extract_text()\n",
    "punctuations = ['(',')',';',':','[',']',',','...','.']\n",
    "tokens = word_tokenize(page2)\n",
    "stop_words = stopwords.words('english')\n",
    "keywords = [word for word in tokens if not word in stop_words and not word in punctuations]"
   ]
  },
  {
   "cell_type": "code",
   "execution_count": 25,
   "id": "87a5936d-f488-4d69-8176-5decd543c54e",
   "metadata": {},
   "outputs": [
    {
     "data": {
      "text/plain": [
       "['Development',\n",
       " 'Plan',\n",
       " 'Greater',\n",
       " 'Mumbai',\n",
       " '2014‐2034',\n",
       " 'Table',\n",
       " 'Contents',\n",
       " 'The',\n",
       " 'Consultant',\n",
       " 'wishes',\n",
       " 'thank',\n",
       " 'following',\n",
       " 'individuals',\n",
       " 'Municipal',\n",
       " 'Corporation',\n",
       " 'Greater',\n",
       " 'Mumbai',\n",
       " 'invaluable',\n",
       " 'support',\n",
       " 'insights',\n",
       " 'contributions',\n",
       " 'towards',\n",
       " '‘',\n",
       " 'Working',\n",
       " 'Paper',\n",
       " '1',\n",
       " '–',\n",
       " 'Preparation',\n",
       " 'Base',\n",
       " 'Map',\n",
       " '’',\n",
       " 'preparation',\n",
       " 'Development',\n",
       " 'Plan',\n",
       " 'Greater',\n",
       " 'Mumbai',\n",
       " '2014‐34',\n",
       " '.............................................................................................................................',\n",
       " '..............',\n",
       " '3',\n",
       " 'Our',\n",
       " 'gratitude',\n",
       " 'following',\n",
       " 'experts',\n",
       " 'invaluable',\n",
       " 'insights',\n",
       " 'support',\n",
       " '............................',\n",
       " '3',\n",
       " 'We',\n",
       " 'wish',\n",
       " 'especially',\n",
       " 'thank',\n",
       " 'MCGM',\n",
       " 'officers',\n",
       " 'Mr.',\n",
       " 'Jagdish',\n",
       " 'Talreja',\n",
       " 'Mr.',\n",
       " 'Dinesh',\n",
       " 'Naik',\n",
       " 'Mr.',\n",
       " 'Hiren',\n",
       " 'Daftardar',\n",
       " 'Ms.',\n",
       " 'Anita',\n",
       " 'Naik',\n",
       " 'continual',\n",
       " 'support',\n",
       " 'since',\n",
       " 'beginning',\n",
       " 'project',\n",
       " 'help',\n",
       " 'towards',\n",
       " 'familiarization',\n",
       " 'data',\n",
       " 'collection',\n",
       " 'They',\n",
       " 'instrumental',\n",
       " 'helping',\n",
       " 'contact',\n",
       " 'various',\n",
       " 'MCGM',\n",
       " 'departments',\n",
       " 'well',\n",
       " 'helping',\n",
       " 'establish',\n",
       " 'contact',\n",
       " 'personnel',\n",
       " 'government',\n",
       " 'departments',\n",
       " 'organizations',\n",
       " 'Many',\n",
       " 'thanks',\n",
       " 'MCGM',\n",
       " 'team',\n",
       " 'deploying',\n",
       " 'personnel',\n",
       " 'particularly',\n",
       " 'Mr.',\n",
       " 'Prasad',\n",
       " 'Gharat',\n",
       " 'extensive',\n",
       " 'field',\n",
       " 'visits',\n",
       " 'helped',\n",
       " 'understanding',\n",
       " 'actual',\n",
       " 'ground',\n",
       " 'conditions',\n",
       " '........................................................................................',\n",
       " '3',\n",
       " 'BEST',\n",
       " '...............................................................................................................................',\n",
       " '.................',\n",
       " '5',\n",
       " 'Brihanmumbai',\n",
       " 'Electric',\n",
       " 'Supply',\n",
       " 'Transport',\n",
       " 'Undertaking',\n",
       " '..............................................................',\n",
       " '5',\n",
       " 'CIDCO',\n",
       " '...............................................................................................................................',\n",
       " '..............',\n",
       " '5',\n",
       " 'City',\n",
       " 'Industrial',\n",
       " 'Development',\n",
       " 'Corporation',\n",
       " '...............................................................................',\n",
       " '5',\n",
       " 'CTP',\n",
       " '...............................................................................................................................',\n",
       " '..................',\n",
       " '5',\n",
       " 'Comprehensive',\n",
       " 'Transportation',\n",
       " 'Plan',\n",
       " '...............................................................................................',\n",
       " '5',\n",
       " 'DP',\n",
       " '...............................................................................................................................',\n",
       " '....................',\n",
       " '5',\n",
       " 'Development',\n",
       " 'Plan',\n",
       " '..........................................................................................................................',\n",
       " '5',\n",
       " 'DPGM34',\n",
       " '...............................................................................................................................',\n",
       " '..........',\n",
       " '5',\n",
       " 'Development',\n",
       " 'Plan',\n",
       " 'Greater',\n",
       " 'Mumbai',\n",
       " '2034',\n",
       " '.......................................................................................',\n",
       " '5',\n",
       " 'DCR',\n",
       " '...............................................................................................................................',\n",
       " '..................',\n",
       " '5',\n",
       " 'Development',\n",
       " 'Control',\n",
       " 'Regulations',\n",
       " '...................................................................................................',\n",
       " '5',\n",
       " 'DGPS',\n",
       " '...........................................................................................................................',\n",
       " '....................',\n",
       " '5',\n",
       " 'Digital',\n",
       " 'Global',\n",
       " 'Positioning',\n",
       " 'System',\n",
       " '...................................................................................................',\n",
       " '5',\n",
       " 'DPGM',\n",
       " '...............................................................................................................................',\n",
       " '..............',\n",
       " '5',\n",
       " 'Development',\n",
       " 'Plan',\n",
       " 'Greater',\n",
       " 'Mumbai',\n",
       " '...........................................................................................',\n",
       " '5',\n",
       " 'ELU',\n",
       " '...............................................................................................................................',\n",
       " '..................',\n",
       " '5',\n",
       " 'Existing',\n",
       " 'Land',\n",
       " 'use',\n",
       " '.............................................................................................................................',\n",
       " '5',\n",
       " 'FSI',\n",
       " '...............................................................................................................................',\n",
       " '....................',\n",
       " '5',\n",
       " 'Floor',\n",
       " 'Space',\n",
       " 'Index',\n",
       " '............................................................................................................................',\n",
       " '5',\n",
       " 'GIS',\n",
       " '...............................................................................................................................',\n",
       " '...................',\n",
       " '5']"
      ]
     },
     "execution_count": 25,
     "metadata": {},
     "output_type": "execute_result"
    }
   ],
   "source": [
    "keywords"
   ]
  },
  {
   "cell_type": "code",
   "execution_count": 27,
   "id": "5e637916-9ba1-43d8-aa0b-f7eb1de2ee95",
   "metadata": {},
   "outputs": [
    {
     "name": "stdout",
     "output_type": "stream",
     "text": [
      "['Mr.Jagdish Talreja', 'Mr.Dinesh Naik', 'Mr.Hiren Daftardar', 'Ms.Anita Naik', 'Mr.Prasad Gharat']\n"
     ]
    }
   ],
   "source": [
    "name_list = list()\n",
    "\n",
    "check =  ['Mr.', 'Mrs.', 'Ms.']\n",
    "\n",
    "for idx, token in enumerate(tokens):\n",
    "\n",
    "    if token.startswith(tuple(check)) and idx < (len(tokens)-1):\n",
    "\n",
    "        name = token + tokens[idx+1] + ' ' +  tokens[idx+2]\n",
    "\n",
    "        name_list.append(name)\n",
    "print(name_list)"
   ]
  },
  {
   "cell_type": "code",
   "execution_count": 29,
   "id": "d7eac836-37cf-43ba-8b67-9cd54b7bb288",
   "metadata": {},
   "outputs": [],
   "source": [
    "wFile.close()"
   ]
  },
  {
   "cell_type": "code",
   "execution_count": 31,
   "id": "a4fd8cc4-1f69-416d-9470-cd04bc05ceb7",
   "metadata": {},
   "outputs": [
    {
     "name": "stdout",
     "output_type": "stream",
     "text": [
      "Collecting python-docx\n",
      "  Downloading python_docx-1.1.2-py3-none-any.whl.metadata (2.0 kB)\n",
      "Requirement already satisfied: lxml>=3.1.0 in /opt/anaconda3/lib/python3.12/site-packages (from python-docx) (5.2.1)\n",
      "Requirement already satisfied: typing-extensions>=4.9.0 in /opt/anaconda3/lib/python3.12/site-packages (from python-docx) (4.11.0)\n",
      "Downloading python_docx-1.1.2-py3-none-any.whl (244 kB)\n",
      "Installing collected packages: python-docx\n",
      "Successfully installed python-docx-1.1.2\n",
      "Note: you may need to restart the kernel to use updated packages.\n"
     ]
    }
   ],
   "source": [
    "pip install python-docx"
   ]
  },
  {
   "cell_type": "code",
   "execution_count": 33,
   "id": "5bff859e-a4b0-47a8-82fb-c1f494a49e43",
   "metadata": {},
   "outputs": [],
   "source": [
    "import docx"
   ]
  },
  {
   "cell_type": "code",
   "execution_count": 39,
   "id": "dcbccce1-f414-44cc-9f6b-f918d37ed12e",
   "metadata": {},
   "outputs": [],
   "source": [
    "doc = open(\"vishnu resume.docx\",\"rb\")\n",
    "document = docx.Document(doc)"
   ]
  },
  {
   "cell_type": "code",
   "execution_count": 43,
   "id": "2e27794d-73f6-43be-999a-4e3a11609569",
   "metadata": {},
   "outputs": [
    {
     "name": "stdout",
     "output_type": "stream",
     "text": [
      "\n",
      "VISHNU VARDHAN REDDY\n",
      "VISHNU VARDHAN REDDYRamancha, H.no1-49, Siddipet ,502276 | +91 8328112628 | reddyvishnu0809@gmail.com\n",
      "VISHNU VARDHAN REDDYRamancha, H.no1-49, Siddipet ,502276 | +91 8328112628 | reddyvishnu0809@gmail.com\n",
      "VISHNU VARDHAN REDDYRamancha, H.no1-49, Siddipet ,502276 | +91 8328112628 | reddyvishnu0809@gmail.comSUMMARY\n",
      "VISHNU VARDHAN REDDYRamancha, H.no1-49, Siddipet ,502276 | +91 8328112628 | reddyvishnu0809@gmail.comSUMMARY\n",
      "VISHNU VARDHAN REDDYRamancha, H.no1-49, Siddipet ,502276 | +91 8328112628 | reddyvishnu0809@gmail.comSUMMARYAmbitious and adaptable student looking to join the Workforce and gain real-world experience.I am eager to kickstart my career and contribute positively to a forward-thinking organization\n",
      "VISHNU VARDHAN REDDYRamancha, H.no1-49, Siddipet ,502276 | +91 8328112628 | reddyvishnu0809@gmail.comSUMMARYAmbitious and adaptable student looking to join the Workforce and gain real-world experience.I am eager to kickstart my career and contribute positively to a forward-thinking organization\n",
      "VISHNU VARDHAN REDDYRamancha, H.no1-49, Siddipet ,502276 | +91 8328112628 | reddyvishnu0809@gmail.comSUMMARYAmbitious and adaptable student looking to join the Workforce and gain real-world experience.I am eager to kickstart my career and contribute positively to a forward-thinking organizationEDUCATION  \n",
      "VISHNU VARDHAN REDDYRamancha, H.no1-49, Siddipet ,502276 | +91 8328112628 | reddyvishnu0809@gmail.comSUMMARYAmbitious and adaptable student looking to join the Workforce and gain real-world experience.I am eager to kickstart my career and contribute positively to a forward-thinking organizationEDUCATION  \n",
      "VISHNU VARDHAN REDDYRamancha, H.no1-49, Siddipet ,502276 | +91 8328112628 | reddyvishnu0809@gmail.comSUMMARYAmbitious and adaptable student looking to join the Workforce and gain real-world experience.I am eager to kickstart my career and contribute positively to a forward-thinking organizationEDUCATION  CERTIFICATES\n",
      "VISHNU VARDHAN REDDYRamancha, H.no1-49, Siddipet ,502276 | +91 8328112628 | reddyvishnu0809@gmail.comSUMMARYAmbitious and adaptable student looking to join the Workforce and gain real-world experience.I am eager to kickstart my career and contribute positively to a forward-thinking organizationEDUCATION  CERTIFICATESIntroduction to python programming\n",
      "VISHNU VARDHAN REDDYRamancha, H.no1-49, Siddipet ,502276 | +91 8328112628 | reddyvishnu0809@gmail.comSUMMARYAmbitious and adaptable student looking to join the Workforce and gain real-world experience.I am eager to kickstart my career and contribute positively to a forward-thinking organizationEDUCATION  CERTIFICATESIntroduction to python programmingIntroduction to Relational Databases (RDBMS)\n",
      "VISHNU VARDHAN REDDYRamancha, H.no1-49, Siddipet ,502276 | +91 8328112628 | reddyvishnu0809@gmail.comSUMMARYAmbitious and adaptable student looking to join the Workforce and gain real-world experience.I am eager to kickstart my career and contribute positively to a forward-thinking organizationEDUCATION  CERTIFICATESIntroduction to python programmingIntroduction to Relational Databases (RDBMS)build your own static website (NXT WAVE)\n",
      "VISHNU VARDHAN REDDYRamancha, H.no1-49, Siddipet ,502276 | +91 8328112628 | reddyvishnu0809@gmail.comSUMMARYAmbitious and adaptable student looking to join the Workforce and gain real-world experience.I am eager to kickstart my career and contribute positively to a forward-thinking organizationEDUCATION  CERTIFICATESIntroduction to python programmingIntroduction to Relational Databases (RDBMS)build your own static website (NXT WAVE)Build your own Responsive website (NXT WAVE)\n",
      "VISHNU VARDHAN REDDYRamancha, H.no1-49, Siddipet ,502276 | +91 8328112628 | reddyvishnu0809@gmail.comSUMMARYAmbitious and adaptable student looking to join the Workforce and gain real-world experience.I am eager to kickstart my career and contribute positively to a forward-thinking organizationEDUCATION  CERTIFICATESIntroduction to python programmingIntroduction to Relational Databases (RDBMS)build your own static website (NXT WAVE)Build your own Responsive website (NXT WAVE)\n",
      "VISHNU VARDHAN REDDYRamancha, H.no1-49, Siddipet ,502276 | +91 8328112628 | reddyvishnu0809@gmail.comSUMMARYAmbitious and adaptable student looking to join the Workforce and gain real-world experience.I am eager to kickstart my career and contribute positively to a forward-thinking organizationEDUCATION  CERTIFICATESIntroduction to python programmingIntroduction to Relational Databases (RDBMS)build your own static website (NXT WAVE)Build your own Responsive website (NXT WAVE)TECHNICAL SKILLS\n",
      "VISHNU VARDHAN REDDYRamancha, H.no1-49, Siddipet ,502276 | +91 8328112628 | reddyvishnu0809@gmail.comSUMMARYAmbitious and adaptable student looking to join the Workforce and gain real-world experience.I am eager to kickstart my career and contribute positively to a forward-thinking organizationEDUCATION  CERTIFICATESIntroduction to python programmingIntroduction to Relational Databases (RDBMS)build your own static website (NXT WAVE)Build your own Responsive website (NXT WAVE)TECHNICAL SKILLSPython\n",
      "VISHNU VARDHAN REDDYRamancha, H.no1-49, Siddipet ,502276 | +91 8328112628 | reddyvishnu0809@gmail.comSUMMARYAmbitious and adaptable student looking to join the Workforce and gain real-world experience.I am eager to kickstart my career and contribute positively to a forward-thinking organizationEDUCATION  CERTIFICATESIntroduction to python programmingIntroduction to Relational Databases (RDBMS)build your own static website (NXT WAVE)Build your own Responsive website (NXT WAVE)TECHNICAL SKILLSPythonSQL\n",
      "VISHNU VARDHAN REDDYRamancha, H.no1-49, Siddipet ,502276 | +91 8328112628 | reddyvishnu0809@gmail.comSUMMARYAmbitious and adaptable student looking to join the Workforce and gain real-world experience.I am eager to kickstart my career and contribute positively to a forward-thinking organizationEDUCATION  CERTIFICATESIntroduction to python programmingIntroduction to Relational Databases (RDBMS)build your own static website (NXT WAVE)Build your own Responsive website (NXT WAVE)TECHNICAL SKILLSPythonSQLHTML,CSS\n",
      "VISHNU VARDHAN REDDYRamancha, H.no1-49, Siddipet ,502276 | +91 8328112628 | reddyvishnu0809@gmail.comSUMMARYAmbitious and adaptable student looking to join the Workforce and gain real-world experience.I am eager to kickstart my career and contribute positively to a forward-thinking organizationEDUCATION  CERTIFICATESIntroduction to python programmingIntroduction to Relational Databases (RDBMS)build your own static website (NXT WAVE)Build your own Responsive website (NXT WAVE)TECHNICAL SKILLSPythonSQLHTML,CSSBootstrap ,Flexbox\n",
      "VISHNU VARDHAN REDDYRamancha, H.no1-49, Siddipet ,502276 | +91 8328112628 | reddyvishnu0809@gmail.comSUMMARYAmbitious and adaptable student looking to join the Workforce and gain real-world experience.I am eager to kickstart my career and contribute positively to a forward-thinking organizationEDUCATION  CERTIFICATESIntroduction to python programmingIntroduction to Relational Databases (RDBMS)build your own static website (NXT WAVE)Build your own Responsive website (NXT WAVE)TECHNICAL SKILLSPythonSQLHTML,CSSBootstrap ,FlexboxUI Basics in Figma\n",
      "VISHNU VARDHAN REDDYRamancha, H.no1-49, Siddipet ,502276 | +91 8328112628 | reddyvishnu0809@gmail.comSUMMARYAmbitious and adaptable student looking to join the Workforce and gain real-world experience.I am eager to kickstart my career and contribute positively to a forward-thinking organizationEDUCATION  CERTIFICATESIntroduction to python programmingIntroduction to Relational Databases (RDBMS)build your own static website (NXT WAVE)Build your own Responsive website (NXT WAVE)TECHNICAL SKILLSPythonSQLHTML,CSSBootstrap ,FlexboxUI Basics in Figma\n",
      "VISHNU VARDHAN REDDYRamancha, H.no1-49, Siddipet ,502276 | +91 8328112628 | reddyvishnu0809@gmail.comSUMMARYAmbitious and adaptable student looking to join the Workforce and gain real-world experience.I am eager to kickstart my career and contribute positively to a forward-thinking organizationEDUCATION  CERTIFICATESIntroduction to python programmingIntroduction to Relational Databases (RDBMS)build your own static website (NXT WAVE)Build your own Responsive website (NXT WAVE)TECHNICAL SKILLSPythonSQLHTML,CSSBootstrap ,FlexboxUI Basics in FigmaPROJECTS\n",
      "VISHNU VARDHAN REDDYRamancha, H.no1-49, Siddipet ,502276 | +91 8328112628 | reddyvishnu0809@gmail.comSUMMARYAmbitious and adaptable student looking to join the Workforce and gain real-world experience.I am eager to kickstart my career and contribute positively to a forward-thinking organizationEDUCATION  CERTIFICATESIntroduction to python programmingIntroduction to Relational Databases (RDBMS)build your own static website (NXT WAVE)Build your own Responsive website (NXT WAVE)TECHNICAL SKILLSPythonSQLHTML,CSSBootstrap ,FlexboxUI Basics in FigmaPROJECTSDeveloped an application using Python in the first year in application development program, its an Tutor application where you can find study materials for various subjects .\n",
      "VISHNU VARDHAN REDDYRamancha, H.no1-49, Siddipet ,502276 | +91 8328112628 | reddyvishnu0809@gmail.comSUMMARYAmbitious and adaptable student looking to join the Workforce and gain real-world experience.I am eager to kickstart my career and contribute positively to a forward-thinking organizationEDUCATION  CERTIFICATESIntroduction to python programmingIntroduction to Relational Databases (RDBMS)build your own static website (NXT WAVE)Build your own Responsive website (NXT WAVE)TECHNICAL SKILLSPythonSQLHTML,CSSBootstrap ,FlexboxUI Basics in FigmaPROJECTSDeveloped an application using Python in the first year in application development program, its an Tutor application where you can find study materials for various subjects .Built a Responsive  website for a Restaurent Using HTML ,CSS ,Bootstrap ,Flexbox \n",
      "VISHNU VARDHAN REDDYRamancha, H.no1-49, Siddipet ,502276 | +91 8328112628 | reddyvishnu0809@gmail.comSUMMARYAmbitious and adaptable student looking to join the Workforce and gain real-world experience.I am eager to kickstart my career and contribute positively to a forward-thinking organizationEDUCATION  CERTIFICATESIntroduction to python programmingIntroduction to Relational Databases (RDBMS)build your own static website (NXT WAVE)Build your own Responsive website (NXT WAVE)TECHNICAL SKILLSPythonSQLHTML,CSSBootstrap ,FlexboxUI Basics in FigmaPROJECTSDeveloped an application using Python in the first year in application development program, its an Tutor application where you can find study materials for various subjects .Built a Responsive  website for a Restaurent Using HTML ,CSS ,Bootstrap ,Flexbox  Engineered the backend architecture for a face recognition ML application, enhancing information retrieval speed by 40% and reducing server response time by 25% in the second semester of the application development program\n"
     ]
    }
   ],
   "source": [
    "docu=\"\"\n",
    "for para in document.paragraphs:\n",
    "    docu += para.text\n",
    "    print (docu)"
   ]
  },
  {
   "cell_type": "code",
   "execution_count": 45,
   "id": "4eb692ad-3c09-46c1-a7df-69d56c4453f2",
   "metadata": {},
   "outputs": [
    {
     "name": "stdout",
     "output_type": "stream",
     "text": [
      "The content of the paragraph 0 is : \n",
      "\n",
      "The content of the paragraph 1 is : VISHNU VARDHAN REDDY\n",
      "\n",
      "The content of the paragraph 2 is : Ramancha, H.no1-49, Siddipet ,502276 | +91 8328112628 | reddyvishnu0809@gmail.com\n",
      "\n",
      "The content of the paragraph 3 is : \n",
      "\n",
      "The content of the paragraph 4 is : SUMMARY\n",
      "\n",
      "The content of the paragraph 5 is : \n",
      "\n",
      "The content of the paragraph 6 is : Ambitious and adaptable student looking to join the Workforce and gain real-world experience.I am eager to kickstart my career and contribute positively to a forward-thinking organization\n",
      "\n",
      "The content of the paragraph 7 is : \n",
      "\n",
      "The content of the paragraph 8 is : EDUCATION  \n",
      "\n",
      "The content of the paragraph 9 is : \n",
      "\n",
      "The content of the paragraph 10 is : CERTIFICATES\n",
      "\n",
      "The content of the paragraph 11 is : Introduction to python programming\n",
      "\n",
      "The content of the paragraph 12 is : Introduction to Relational Databases (RDBMS)\n",
      "\n",
      "The content of the paragraph 13 is : build your own static website (NXT WAVE)\n",
      "\n",
      "The content of the paragraph 14 is : Build your own Responsive website (NXT WAVE)\n",
      "\n",
      "The content of the paragraph 15 is : \n",
      "\n",
      "The content of the paragraph 16 is : TECHNICAL SKILLS\n",
      "\n",
      "The content of the paragraph 17 is : Python\n",
      "\n",
      "The content of the paragraph 18 is : SQL\n",
      "\n",
      "The content of the paragraph 19 is : HTML,CSS\n",
      "\n",
      "The content of the paragraph 20 is : Bootstrap ,Flexbox\n",
      "\n",
      "The content of the paragraph 21 is : UI Basics in Figma\n",
      "\n",
      "The content of the paragraph 22 is : \n",
      "\n",
      "The content of the paragraph 23 is : PROJECTS\n",
      "\n",
      "The content of the paragraph 24 is : Developed an application using Python in the first year in application development program, its an Tutor application where you can find study materials for various subjects .\n",
      "\n",
      "The content of the paragraph 25 is : Built a Responsive  website for a Restaurent Using HTML ,CSS ,Bootstrap ,Flexbox \n",
      "\n",
      "The content of the paragraph 26 is :  Engineered the backend architecture for a face recognition ML application, enhancing information retrieval speed by 40% and reducing server response time by 25% in the second semester of the application development program\n",
      "\n"
     ]
    }
   ],
   "source": [
    "for i in range (len (document.paragraphs) ):\n",
    "    print(\"The content of the paragraph \"+ str(i)+\" is : \" + document.paragraphs[i].text+\"\\n\")"
   ]
  },
  {
   "cell_type": "code",
   "execution_count": 47,
   "id": "3780ec82-8375-47d6-8c08-86f60975550e",
   "metadata": {},
   "outputs": [
    {
     "name": "stdout",
     "output_type": "stream",
     "text": [
      "Collecting bs4\n",
      "  Downloading bs4-0.0.2-py2.py3-none-any.whl.metadata (411 bytes)\n",
      "Requirement already satisfied: beautifulsoup4 in /opt/anaconda3/lib/python3.12/site-packages (from bs4) (4.12.3)\n",
      "Requirement already satisfied: soupsieve>1.2 in /opt/anaconda3/lib/python3.12/site-packages (from beautifulsoup4->bs4) (2.5)\n",
      "Downloading bs4-0.0.2-py2.py3-none-any.whl (1.2 kB)\n",
      "Installing collected packages: bs4\n",
      "Successfully installed bs4-0.0.2\n",
      "Note: you may need to restart the kernel to use updated packages.\n"
     ]
    }
   ],
   "source": [
    "pip install bs4"
   ]
  },
  {
   "cell_type": "code",
   "execution_count": 49,
   "id": "e9029064-381d-46e5-a7cd-56ea117738f8",
   "metadata": {},
   "outputs": [],
   "source": [
    "import urllib. request as urllib2\n",
    "from bs4 import BeautifulSoup"
   ]
  },
  {
   "cell_type": "code",
   "execution_count": null,
   "id": "ad7d9bea-4063-4fee-aa1d-2f7f9d449818",
   "metadata": {},
   "outputs": [],
   "source": []
  }
 ],
 "metadata": {
  "kernelspec": {
   "display_name": "Python [conda env:base] *",
   "language": "python",
   "name": "conda-base-py"
  },
  "language_info": {
   "codemirror_mode": {
    "name": "ipython",
    "version": 3
   },
   "file_extension": ".py",
   "mimetype": "text/x-python",
   "name": "python",
   "nbconvert_exporter": "python",
   "pygments_lexer": "ipython3",
   "version": "3.12.7"
  }
 },
 "nbformat": 4,
 "nbformat_minor": 5
}
