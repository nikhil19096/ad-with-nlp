{
 "cells": [
  {
   "cell_type": "code",
   "execution_count": 1,
   "id": "529e9949-f846-4bdc-a156-fbab1e679302",
   "metadata": {},
   "outputs": [],
   "source": [
    "import nltk"
   ]
  },
  {
   "cell_type": "code",
   "execution_count": 2,
   "id": "b0e9ead6-4651-40e0-809a-fba081e6b7ba",
   "metadata": {},
   "outputs": [
    {
     "name": "stderr",
     "output_type": "stream",
     "text": [
      "[nltk_data] Downloading package punkt to\n",
      "[nltk_data]     C:\\Users\\avina\\AppData\\Roaming\\nltk_data...\n",
      "[nltk_data]   Package punkt is already up-to-date!\n",
      "[nltk_data] Downloading package averaged_perceptron_tagger to\n",
      "[nltk_data]     C:\\Users\\avina\\AppData\\Roaming\\nltk_data...\n",
      "[nltk_data]   Package averaged_perceptron_tagger is already up-to-\n",
      "[nltk_data]       date!\n"
     ]
    },
    {
     "data": {
      "text/plain": [
       "True"
      ]
     },
     "execution_count": 2,
     "metadata": {},
     "output_type": "execute_result"
    }
   ],
   "source": [
    "nltk.download('punkt')\n",
    "nltk.download('averaged_perceptron_tagger')"
   ]
  },
  {
   "cell_type": "code",
   "execution_count": 3,
   "id": "ba423e25-47df-4ebb-a8d4-aac331eb04aa",
   "metadata": {},
   "outputs": [],
   "source": [
    "import nltk\n",
    "import re\n",
    "from nltk.chat.util import Chat, reflections"
   ]
  },
  {
   "cell_type": "code",
   "execution_count": 4,
   "id": "bfccf4ba-3951-46e1-8636-e5a660e03c4d",
   "metadata": {},
   "outputs": [],
   "source": [
    "pairs = [\n",
    "    [r\"my name is (.*)\", [\"Hello %1, how can I assist you today?\",]],\n",
    "    [r\"hi|hey|hello\", [\"Hello, how can I help you?\", \"Hey there! What can I do for you?\",\n",
    "                       \"Hi! How can I assist you today?\"]],\n",
    "    [r\"what is your name?\", [\"I am a chatbot created to assist you. You can call me Chatbot.\",]],\n",
    "    [r\"how are you?\", [\"I'm a bot, so I don't have feelings, but I'm here to help you!\",]],\n",
    "    [r\"can you help me with (.*)\", [\"Sure, I can help you with %1. Please provide more details.\",]],\n",
    "    [r\"sorry (.*)\", [\"It's okay. How can I assist you?\",]],\n",
    "    [r\"thank you|thanks\", [\"You're welcome!\", \"No problem!\", \"Happy to help!\"]],\n",
    "    [r\"quit\", [\"Bye! Have a great day!\", \"Goodbye!\"]],\n",
    "    [r\"(.*)\", [\"I'm sorry, I don't understand that. Can you rephrase?\",\n",
    "               \"Could you please elaborate on that?\"]]\n",
    "]"
   ]
  },
  {
   "cell_type": "code",
   "execution_count": 5,
   "id": "a07a548c-a3ea-47e6-ab7a-5c0142298655",
   "metadata": {},
   "outputs": [
    {
     "ename": "TypeError",
     "evalue": "RBChatbot() takes no arguments",
     "output_type": "error",
     "traceback": [
      "\u001b[1;31m---------------------------------------------------------------------------\u001b[0m",
      "\u001b[1;31mTypeError\u001b[0m                                 Traceback (most recent call last)",
      "Cell \u001b[1;32mIn[5], line 12\u001b[0m\n\u001b[0;32m      8\u001b[0m             \u001b[38;5;28;01mreturn\u001b[39;00m \u001b[38;5;28mself\u001b[39m\u001b[38;5;241m.\u001b[39mchat\u001b[38;5;241m.\u001b[39mrespond(user_input)\n\u001b[0;32m     10\u001b[0m  \u001b[38;5;66;03m# Initialize the chatbot\u001b[39;00m\n\u001b[1;32m---> 12\u001b[0m chatbot \u001b[38;5;241m=\u001b[39m RBChatbot(pairs)\n",
      "\u001b[1;31mTypeError\u001b[0m: RBChatbot() takes no arguments"
     ]
    }
   ],
   "source": [
    "# Define the chatbot class\n",
    "\n",
    "class RBChatbot:\n",
    "    def _init_(self, pairs):\n",
    "        self.chat = Chat(pairs, reflections)\n",
    "        \n",
    "        def respond(self, user_input):\n",
    "            return self.chat.respond(user_input)\n",
    "\n",
    " # Initialize the chatbot\n",
    "\n",
    "chatbot = RBChatbot(pairs)"
   ]
  },
  {
   "cell_type": "code",
   "execution_count": null,
   "id": "f7a77273-f298-461c-a573-ffdd7800a960",
   "metadata": {},
   "outputs": [],
   "source": [
    "def chat_with_bot():\n",
    "    print(\"Hi, I'm your chatbot. Type 'quit' to exit.\")\n",
    "    while True:\n",
    "        user_input = input(\"you: \")\n",
    "        if user_input.lower() == 'quit':\n",
    "            print(\"Chatbot: Bye! Have a great day!\")\n",
    "            break\n",
    "        response = chatbot.respond(user_input)\n",
    "        print(f\"Chatbot: {response}\")\n",
    "\n",
    "chat_with_bot"
   ]
  },
  {
   "cell_type": "code",
   "execution_count": null,
   "id": "a34e9016-b2b0-4490-85e3-19d57aa61d50",
   "metadata": {},
   "outputs": [],
   "source": [
    "from nltk.chat.util import Chat, reflections\n",
    "\n",
    "class RBChatbot:\n",
    "    def __init__(self, pairs):\n",
    "        self.chat = Chat(pairs, reflections)\n",
    "\n",
    "    def respond(self, user_input):\n",
    "        return self.chat.respond(user_input)\n",
    "\n",
    "# Example pairs (you can modify this as per your needs)\n",
    "pairs = [\n",
    "    (r\"Hi\", [\"Hello!\"]),\n",
    "    (r\"How are you?\", [\"I'm doing well, thank you!\"]),\n",
    "    (r\"(.*)\", [\"I'm not sure how to respond to that.\"])\n",
    "]\n",
    "\n",
    "# Initialize the chatbot\n",
    "chatbot = RBChatbot(pairs)\n",
    "\n",
    "# Example usage\n",
    "user_input = \"Hi\"\n",
    "response = chatbot.respond(user_input)\n",
    "print(response)  # Output: Hello!\n"
   ]
  },
  {
   "cell_type": "code",
   "execution_count": null,
   "id": "e0d72f3d-462a-4d44-8988-9fa7f4ba6ff7",
   "metadata": {},
   "outputs": [],
   "source": [
    "def chat_with_bot():\n",
    "    print(\"Hi, I'm your chatbot. Type 'quit' to exit.\")\n",
    "    while True:\n",
    "        user_input = input(\"you: \")\n",
    "        if user_input.lower() == 'quit':\n",
    "            print(\"Chatbot: Bye! Have a great day!\")\n",
    "            break\n",
    "        response = chatbot.respond(user_input)\n",
    "        print(f\"Chatbot: {response}\")\n",
    "\n",
    "# Call the function to start the chat\n",
    "chat_with_bot()\n"
   ]
  },
  {
   "cell_type": "code",
   "execution_count": null,
   "id": "9bbf532b-477d-4ab5-9e34-262b9681e240",
   "metadata": {},
   "outputs": [],
   "source": []
  },
  {
   "cell_type": "code",
   "execution_count": null,
   "id": "feeea00b-8dcb-411a-b4b0-3b36d7eef93a",
   "metadata": {},
   "outputs": [],
   "source": [
    "pip install trasformers torch"
   ]
  },
  {
   "cell_type": "code",
   "execution_count": null,
   "id": "ac16fa27-e49b-4be0-a744-56618b2e280a",
   "metadata": {},
   "outputs": [],
   "source": [
    "context = \"\"\"The Eiffel Tower is a wrought-iron lattice tower on the Champ de Mars in paris, France.it is named after the engineer Gustave Eiffel,whose company designed and built the tower.\"\"\"\n",
    "question = \"Who designed the Eiffel Tower?\"\n",
    "inputs = tokenizer(question,context, return_tensors=\"pt\")\n"
   ]
  }
 ],
 "metadata": {
  "kernelspec": {
   "display_name": "Python [conda env:base] *",
   "language": "python",
   "name": "conda-base-py"
  },
  "language_info": {
   "codemirror_mode": {
    "name": "ipython",
    "version": 3
   },
   "file_extension": ".py",
   "mimetype": "text/x-python",
   "name": "python",
   "nbconvert_exporter": "python",
   "pygments_lexer": "ipython3",
   "version": "3.12.7"
  }
 },
 "nbformat": 4,
 "nbformat_minor": 5
}
